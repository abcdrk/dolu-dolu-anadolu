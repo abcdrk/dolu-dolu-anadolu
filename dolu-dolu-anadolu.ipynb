{
 "cells": [
  {
   "cell_type": "code",
   "execution_count": 57,
   "metadata": {},
   "outputs": [],
   "source": [
    "import codecs\n",
    "import re\n",
    "import collections\n",
    "\n",
    "# Change the encoding of the input file to latin-1\n",
    "file_content = \"\"\n",
    "with open(\"soru_gruplari.txt\", encoding=\"utf-16\") as f:\n",
    "    file_content = f.read()\n",
    "# Read the file and append all of the lines\n",
    "question_groups = file_content.split(\"\\n\\n\")"
   ]
  },
  {
   "cell_type": "code",
   "execution_count": 61,
   "metadata": {},
   "outputs": [],
   "source": [
    "question_groups_dict = {}\n",
    "for group in question_groups:\n",
    "    lines = group.split(\"\\n\")\n",
    "    answer_id = \"\"\n",
    "    group_dict = collections.defaultdict(dict)\n",
    "    for line in lines:\n",
    "        ID = re.findall(\"(.*):\", line)[0]\n",
    "        sentence = re.findall(\": (.*)\", line)[0]\n",
    "        if ID[0] == 'S':  # if the sentence is a question\n",
    "            group_dict[\"questions\"][ID] = sentence\n",
    "        elif ID[0] == 'C':  # if the sentence is the answer\n",
    "            group_dict[\"answer\"] = sentence\n",
    "            answer_id = ID\n",
    "        else:  # if the sentence is the id of related paragraph\n",
    "            group_dict[\"paragraph\"] = sentence\n",
    "    question_groups_dict[answer_id] = group_dict"
   ]
  }
 ],
 "metadata": {
  "kernelspec": {
   "display_name": "Python 3",
   "language": "python",
   "name": "python3"
  },
  "language_info": {
   "codemirror_mode": {
    "name": "ipython",
    "version": 3
   },
   "file_extension": ".py",
   "mimetype": "text/x-python",
   "name": "python",
   "nbconvert_exporter": "python",
   "pygments_lexer": "ipython3",
   "version": "3.6.7"
  }
 },
 "nbformat": 4,
 "nbformat_minor": 2
}
